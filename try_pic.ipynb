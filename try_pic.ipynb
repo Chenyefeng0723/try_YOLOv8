{
 "cells": [
  {
   "cell_type": "code",
   "id": "430419c926f4fe30",
   "metadata": {
    "ExecuteTime": {
     "end_time": "2025-03-15T12:15:02.211216Z",
     "start_time": "2025-03-15T12:15:02.200092Z"
    }
   },
   "source": [
    "import cv2\n",
    "from ultralytics import YOLO"
   ],
   "outputs": [],
   "execution_count": 2
  },
  {
   "metadata": {
    "ExecuteTime": {
     "end_time": "2025-03-15T06:11:35.208165Z",
     "start_time": "2025-03-15T06:11:35.197200Z"
    }
   },
   "cell_type": "code",
   "source": [
    "\n",
    "img_path = \"test05.jpg\""
   ],
   "id": "63e027d7edaef0b",
   "outputs": [],
   "execution_count": 30
  },
  {
   "metadata": {
    "ExecuteTime": {
     "end_time": "2025-03-15T06:11:35.239060Z",
     "start_time": "2025-03-15T06:11:35.225108Z"
    }
   },
   "cell_type": "code",
   "source": [
    "\n",
    "# 读取图像（增加错误检查）\n",
    "img = cv2.imread(img_path)\n"
   ],
   "id": "c379be8f2bd81507",
   "outputs": [],
   "execution_count": 31
  },
  {
   "metadata": {
    "ExecuteTime": {
     "end_time": "2025-03-15T06:11:35.286268Z",
     "start_time": "2025-03-15T06:11:35.255307Z"
    }
   },
   "cell_type": "code",
   "source": [
    "# 加载模型\n",
    "model = YOLO(\"yolov8n.pt\")"
   ],
   "id": "75aaf00a3fcb61d7",
   "outputs": [],
   "execution_count": 32
  },
  {
   "metadata": {
    "ExecuteTime": {
     "end_time": "2025-03-15T06:11:35.471688Z",
     "start_time": "2025-03-15T06:11:35.304210Z"
    }
   },
   "cell_type": "code",
   "source": [
    "\n",
    "# 执行推理\n",
    "results = model(img)"
   ],
   "id": "c76841158bed5a1c",
   "outputs": [
    {
     "name": "stdout",
     "output_type": "stream",
     "text": [
      "\n",
      "0: 640x480 4 persons, 1 bus, 1 stop sign, 26.6ms\n",
      "Speed: 2.4ms preprocess, 26.6ms inference, 1.5ms postprocess per image at shape (1, 3, 640, 480)\n"
     ]
    }
   ],
   "execution_count": 33
  },
  {
   "metadata": {
    "ExecuteTime": {
     "end_time": "2025-03-15T06:11:35.503211Z",
     "start_time": "2025-03-15T06:11:35.489233Z"
    }
   },
   "cell_type": "code",
   "source": [
    "\n",
    "# 绘制结果\n",
    "annotated_img = results[0].plot()"
   ],
   "id": "4ea8f6e3754142d3",
   "outputs": [],
   "execution_count": 34
  },
  {
   "metadata": {
    "ExecuteTime": {
     "end_time": "2025-03-15T06:11:35.565125Z",
     "start_time": "2025-03-15T06:11:35.535419Z"
    }
   },
   "cell_type": "code",
   "source": [
    "\n",
    "# 显示结果（窗口自适应大小）\n",
    "cv2.namedWindow(\"YOLOv8 Result\", cv2.WINDOW_NORMAL)\n",
    "cv2.imshow(\"YOLOv8 Result\", annotated_img)\n",
    "import cv2\n",
    "from ultralytics import YOLO"
   ],
   "id": "3f53d95914090ba7",
   "outputs": [],
   "execution_count": 35
  },
  {
   "metadata": {
    "ExecuteTime": {
     "end_time": "2025-03-15T06:11:41.858731Z",
     "start_time": "2025-03-15T06:11:35.579592Z"
    }
   },
   "cell_type": "code",
   "source": [
    "\n",
    "# 按任意键关闭窗口（原代码等待10秒）\n",
    "cv2.waitKey(0)  # 参数0表示按任意键继续\n",
    "cv2.destroyAllWindows()"
   ],
   "id": "12e32a0e3b80b6f4",
   "outputs": [],
   "execution_count": 36
  },
  {
   "metadata": {
    "ExecuteTime": {
     "end_time": "2025-03-15T06:11:41.889138Z",
     "start_time": "2025-03-15T06:11:41.876178Z"
    }
   },
   "cell_type": "code",
   "source": [
    "\n",
    "# 保存结果（文件名改为test01_result.jpg避免覆盖）\n",
    "cv2.imwrite(\"test05_result.jpg\", annotated_img)\n",
    "print(\"检测结果已保存为 test05_result.jpg\")"
   ],
   "id": "30fa9e3e11e69faa",
   "outputs": [
    {
     "name": "stdout",
     "output_type": "stream",
     "text": [
      "检测结果已保存为 test05_result.jpg\n"
     ]
    }
   ],
   "execution_count": 37
  }
 ],
 "metadata": {
  "kernelspec": {
   "display_name": "pytorchpy39",
   "language": "python",
   "name": "pytorchpy39"
  },
  "language_info": {
   "codemirror_mode": {
    "name": "ipython",
    "version": 2
   },
   "file_extension": ".py",
   "mimetype": "text/x-python",
   "name": "python",
   "nbconvert_exporter": "python",
   "pygments_lexer": "ipython2",
   "version": "2.7.6"
  }
 },
 "nbformat": 4,
 "nbformat_minor": 5
}
